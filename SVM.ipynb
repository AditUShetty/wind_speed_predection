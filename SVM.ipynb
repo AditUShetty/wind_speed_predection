{
 "cells": [
  {
   "cell_type": "code",
   "execution_count": 1,
   "id": "3ae5bee3-a4e4-4e76-9e3d-b55c250dd50f",
   "metadata": {},
   "outputs": [],
   "source": [
    "import numpy as np\n"
   ]
  },
  {
   "cell_type": "code",
   "execution_count": 10,
   "id": "a63098e5-33d5-4f86-8879-4a78dd2b9514",
   "metadata": {},
   "outputs": [],
   "source": [
    "s1 = [1,0]\n",
    "s2 = [3,1]\n",
    "s3 = [3,-1]"
   ]
  },
  {
   "cell_type": "code",
   "execution_count": 11,
   "id": "70dcdabf-ace8-42b3-a9b3-504fcc48c0b2",
   "metadata": {},
   "outputs": [],
   "source": [
    "s1.append(1)\n",
    "s2.append(1)\n",
    "s3.append(1)"
   ]
  },
  {
   "cell_type": "code",
   "execution_count": 12,
   "id": "82319bea-fea2-4094-9610-889d506073b6",
   "metadata": {},
   "outputs": [],
   "source": [
    "s1t=np.transpose(s1)\n",
    "s2t=np.transpose(s2)\n",
    "s3t=np.transpose(s3)"
   ]
  },
  {
   "cell_type": "code",
   "execution_count": 13,
   "id": "74bcaad0-1a5a-424c-a410-b5688c4258fe",
   "metadata": {},
   "outputs": [],
   "source": [
    "s1ts1=np.dot(s1t,s1)\n",
    "s1ts2=np.dot(s1t,s2)\n",
    "s1ts3=np.dot(s1t,s3)\n",
    "s2ts1=np.dot(s2t,s1)\n",
    "s2ts2=np.dot(s2t,s2)\n",
    "s2ts3=np.dot(s2t,s3)\n",
    "s3ts1=np.dot(s3t,s1)\n",
    "s3ts2=np.dot(s3t,s2)\n",
    "s3ts3=np.dot(s3t,s3)"
   ]
  },
  {
   "cell_type": "code",
   "execution_count": 14,
   "id": "df72f08e-2bd5-4c5f-b27e-fd4d3ab96c23",
   "metadata": {},
   "outputs": [],
   "source": [
    "x=np.array([[s1ts1,s1ts2,s1ts3],[s2ts1,s2ts2,s2ts3],[s3ts1,s3ts2,s3ts3]])"
   ]
  },
  {
   "cell_type": "code",
   "execution_count": 15,
   "id": "8158051f-fca5-4c10-96e9-7ea0b5284e03",
   "metadata": {},
   "outputs": [],
   "source": [
    "y=np.array([-1,1,1])"
   ]
  },
  {
   "cell_type": "code",
   "execution_count": 36,
   "id": "945c03d9-a1f9-4974-a40d-cd018606730e",
   "metadata": {},
   "outputs": [
    {
     "data": {
      "text/plain": [
       "array([-3.5 ,  0.75,  0.75])"
      ]
     },
     "execution_count": 36,
     "metadata": {},
     "output_type": "execute_result"
    }
   ],
   "source": [
    "bhat=(np.linalg.inv(((x.T).dot(x))).dot(x.T)).dot(y)\n",
    "bhat"
   ]
  },
  {
   "cell_type": "code",
   "execution_count": 37,
   "id": "5cbef9bc-7fb3-4455-9b0a-31e1e71e764c",
   "metadata": {},
   "outputs": [],
   "source": [
    "w=bhat[0] *s1t+bhat[1]*s2t+bhat[2]*s3t"
   ]
  },
  {
   "cell_type": "code",
   "execution_count": 38,
   "id": "02953ac6-b3f3-4d4b-a313-5492e92c1253",
   "metadata": {},
   "outputs": [],
   "source": [
    "b=np.array(round(w[2]))\n",
    "w=np.array([w[0],w[1]])"
   ]
  },
  {
   "cell_type": "code",
   "execution_count": 39,
   "id": "6299fe01-bd07-42b4-b8b1-bf8687f9f5e8",
   "metadata": {},
   "outputs": [
    {
     "name": "stdin",
     "output_type": "stream",
     "text": [
      "enter X:  12\n",
      "enter Y:  12\n"
     ]
    }
   ],
   "source": [
    "p=np.array([int(input(\"enter X: \")),int(input(\"enter Y: \"))])"
   ]
  },
  {
   "cell_type": "code",
   "execution_count": 41,
   "id": "12224fd2-9599-40b5-9761-76a399551877",
   "metadata": {},
   "outputs": [
    {
     "data": {
      "text/plain": [
       "12"
      ]
     },
     "execution_count": 41,
     "metadata": {},
     "output_type": "execute_result"
    }
   ],
   "source": [
    "res=np.dot(w,p)\n",
    "res=round(res)"
   ]
  },
  {
   "cell_type": "code",
   "execution_count": 44,
   "id": "866b6926-4eab-452a-9502-eaee9f5b0887",
   "metadata": {},
   "outputs": [
    {
     "name": "stdout",
     "output_type": "stream",
     "text": [
      "positively classified.\n"
     ]
    }
   ],
   "source": [
    "if res>b:\n",
    "    print(\"positively classified.\")\n",
    "else:\n",
    "    print(\"negatively classified.\")"
   ]
  },
  {
   "cell_type": "code",
   "execution_count": null,
   "id": "d82d3e0c-b941-4c58-a5bc-5dec3676912f",
   "metadata": {},
   "outputs": [],
   "source": []
  }
 ],
 "metadata": {
  "kernelspec": {
   "display_name": "Python 3",
   "language": "python",
   "name": "python3"
  },
  "language_info": {
   "codemirror_mode": {
    "name": "ipython",
    "version": 3
   },
   "file_extension": ".py",
   "mimetype": "text/x-python",
   "name": "python",
   "nbconvert_exporter": "python",
   "pygments_lexer": "ipython3",
   "version": "3.9.12"
  }
 },
 "nbformat": 4,
 "nbformat_minor": 5
}
