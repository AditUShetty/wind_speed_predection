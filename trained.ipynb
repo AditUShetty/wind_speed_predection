{
 "cells": [
  {
   "cell_type": "code",
   "execution_count": 13,
   "id": "c95cfd06-6aee-4415-a182-462d994188d5",
   "metadata": {},
   "outputs": [],
   "source": [
    "import pandas as pd\n",
    "import numpy as np\n",
    "import seaborn as sns\n",
    "import matplotlib.pyplot as plt\n",
    "%matplotlib inline\n",
    "\n",
    "\n",
    "import os\n",
    "for dirname, _, filenames in os.walk('wind_data.csv'):\n",
    "    for filename in filenames:\n",
    "        print(os.path.join(dirname, filename))"
   ]
  },
  {
   "cell_type": "code",
   "execution_count": 14,
   "id": "dedc1a2c-d090-4f62-82c7-896e35a0a017",
   "metadata": {},
   "outputs": [
    {
     "data": {
      "text/html": [
       "<div>\n",
       "<style scoped>\n",
       "    .dataframe tbody tr th:only-of-type {\n",
       "        vertical-align: middle;\n",
       "    }\n",
       "\n",
       "    .dataframe tbody tr th {\n",
       "        vertical-align: top;\n",
       "    }\n",
       "\n",
       "    .dataframe thead th {\n",
       "        text-align: right;\n",
       "    }\n",
       "</style>\n",
       "<table border=\"1\" class=\"dataframe\">\n",
       "  <thead>\n",
       "    <tr style=\"text-align: right;\">\n",
       "      <th></th>\n",
       "      <th>WIND</th>\n",
       "      <th>IND</th>\n",
       "      <th>RAIN</th>\n",
       "      <th>IND.1</th>\n",
       "      <th>T.MAX</th>\n",
       "      <th>IND.2</th>\n",
       "      <th>T.MIN</th>\n",
       "      <th>T.MIN.G</th>\n",
       "      <th>month</th>\n",
       "    </tr>\n",
       "  </thead>\n",
       "  <tbody>\n",
       "    <tr>\n",
       "      <th>0</th>\n",
       "      <td>13.67</td>\n",
       "      <td>0</td>\n",
       "      <td>0.2</td>\n",
       "      <td>0</td>\n",
       "      <td>9.5</td>\n",
       "      <td>0</td>\n",
       "      <td>3.7</td>\n",
       "      <td>-1.0</td>\n",
       "      <td>1</td>\n",
       "    </tr>\n",
       "    <tr>\n",
       "      <th>1</th>\n",
       "      <td>11.50</td>\n",
       "      <td>0</td>\n",
       "      <td>5.1</td>\n",
       "      <td>0</td>\n",
       "      <td>7.2</td>\n",
       "      <td>0</td>\n",
       "      <td>4.2</td>\n",
       "      <td>1.1</td>\n",
       "      <td>1</td>\n",
       "    </tr>\n",
       "    <tr>\n",
       "      <th>2</th>\n",
       "      <td>11.25</td>\n",
       "      <td>0</td>\n",
       "      <td>0.4</td>\n",
       "      <td>0</td>\n",
       "      <td>5.5</td>\n",
       "      <td>0</td>\n",
       "      <td>0.5</td>\n",
       "      <td>-0.5</td>\n",
       "      <td>1</td>\n",
       "    </tr>\n",
       "    <tr>\n",
       "      <th>3</th>\n",
       "      <td>8.63</td>\n",
       "      <td>0</td>\n",
       "      <td>0.2</td>\n",
       "      <td>0</td>\n",
       "      <td>5.6</td>\n",
       "      <td>0</td>\n",
       "      <td>0.4</td>\n",
       "      <td>-3.2</td>\n",
       "      <td>1</td>\n",
       "    </tr>\n",
       "    <tr>\n",
       "      <th>4</th>\n",
       "      <td>11.92</td>\n",
       "      <td>0</td>\n",
       "      <td>10.4</td>\n",
       "      <td>0</td>\n",
       "      <td>7.2</td>\n",
       "      <td>1</td>\n",
       "      <td>-1.5</td>\n",
       "      <td>-7.5</td>\n",
       "      <td>1</td>\n",
       "    </tr>\n",
       "  </tbody>\n",
       "</table>\n",
       "</div>"
      ],
      "text/plain": [
       "    WIND  IND  RAIN  IND.1  T.MAX  IND.2  T.MIN  T.MIN.G  month\n",
       "0  13.67    0   0.2      0    9.5      0    3.7     -1.0      1\n",
       "1  11.50    0   5.1      0    7.2      0    4.2      1.1      1\n",
       "2  11.25    0   0.4      0    5.5      0    0.5     -0.5      1\n",
       "3   8.63    0   0.2      0    5.6      0    0.4     -3.2      1\n",
       "4  11.92    0  10.4      0    7.2      1   -1.5     -7.5      1"
      ]
     },
     "execution_count": 14,
     "metadata": {},
     "output_type": "execute_result"
    }
   ],
   "source": [
    "df = pd.read_csv('wind_data.csv')\n",
    "df.head()"
   ]
  },
  {
   "cell_type": "code",
   "execution_count": 15,
   "id": "f124ecd9-2aff-4ccc-b0da-7dcecd0b3673",
   "metadata": {},
   "outputs": [
    {
     "data": {
      "text/plain": [
       "(6498, 9)"
      ]
     },
     "execution_count": 15,
     "metadata": {},
     "output_type": "execute_result"
    }
   ],
   "source": [
    "df.shape"
   ]
  },
  {
   "cell_type": "code",
   "execution_count": 16,
   "id": "d479806f-5ca8-4b5c-b527-4c6722f1f30a",
   "metadata": {},
   "outputs": [
    {
     "name": "stdout",
     "output_type": "stream",
     "text": [
      "<class 'pandas.core.frame.DataFrame'>\n",
      "RangeIndex: 6498 entries, 0 to 6497\n",
      "Data columns (total 9 columns):\n",
      " #   Column   Non-Null Count  Dtype  \n",
      "---  ------   --------------  -----  \n",
      " 0   WIND     6498 non-null   float64\n",
      " 1   IND      6498 non-null   int64  \n",
      " 2   RAIN     6498 non-null   float64\n",
      " 3   IND.1    6498 non-null   int64  \n",
      " 4   T.MAX    6498 non-null   float64\n",
      " 5   IND.2    6498 non-null   int64  \n",
      " 6   T.MIN    6498 non-null   float64\n",
      " 7   T.MIN.G  6498 non-null   float64\n",
      " 8   month    6498 non-null   int64  \n",
      "dtypes: float64(5), int64(4)\n",
      "memory usage: 457.0 KB\n"
     ]
    }
   ],
   "source": [
    "df.info()"
   ]
  },
  {
   "cell_type": "code",
   "execution_count": 17,
   "id": "3e1b0bc2-c219-4ab4-a53f-a5fb2e74039a",
   "metadata": {},
   "outputs": [
    {
     "data": {
      "text/html": [
       "<div>\n",
       "<style scoped>\n",
       "    .dataframe tbody tr th:only-of-type {\n",
       "        vertical-align: middle;\n",
       "    }\n",
       "\n",
       "    .dataframe tbody tr th {\n",
       "        vertical-align: top;\n",
       "    }\n",
       "\n",
       "    .dataframe thead th {\n",
       "        text-align: right;\n",
       "    }\n",
       "</style>\n",
       "<table border=\"1\" class=\"dataframe\">\n",
       "  <thead>\n",
       "    <tr style=\"text-align: right;\">\n",
       "      <th></th>\n",
       "      <th>WIND</th>\n",
       "      <th>IND</th>\n",
       "      <th>RAIN</th>\n",
       "      <th>IND.1</th>\n",
       "      <th>T.MAX</th>\n",
       "      <th>IND.2</th>\n",
       "      <th>T.MIN</th>\n",
       "      <th>T.MIN.G</th>\n",
       "      <th>month</th>\n",
       "    </tr>\n",
       "  </thead>\n",
       "  <tbody>\n",
       "    <tr>\n",
       "      <th>count</th>\n",
       "      <td>6498.000</td>\n",
       "      <td>6498.000</td>\n",
       "      <td>6498.000</td>\n",
       "      <td>6498.00</td>\n",
       "      <td>6498.000</td>\n",
       "      <td>6498.000</td>\n",
       "      <td>6498.000</td>\n",
       "      <td>6498.000</td>\n",
       "      <td>6498.000</td>\n",
       "    </tr>\n",
       "    <tr>\n",
       "      <th>mean</th>\n",
       "      <td>9.615</td>\n",
       "      <td>0.394</td>\n",
       "      <td>1.857</td>\n",
       "      <td>0.35</td>\n",
       "      <td>13.068</td>\n",
       "      <td>0.458</td>\n",
       "      <td>6.697</td>\n",
       "      <td>2.869</td>\n",
       "      <td>6.529</td>\n",
       "    </tr>\n",
       "    <tr>\n",
       "      <th>std</th>\n",
       "      <td>4.709</td>\n",
       "      <td>1.182</td>\n",
       "      <td>3.939</td>\n",
       "      <td>1.12</td>\n",
       "      <td>4.751</td>\n",
       "      <td>1.170</td>\n",
       "      <td>4.467</td>\n",
       "      <td>5.453</td>\n",
       "      <td>3.434</td>\n",
       "    </tr>\n",
       "    <tr>\n",
       "      <th>min</th>\n",
       "      <td>0.000</td>\n",
       "      <td>0.000</td>\n",
       "      <td>0.000</td>\n",
       "      <td>0.00</td>\n",
       "      <td>-0.100</td>\n",
       "      <td>0.000</td>\n",
       "      <td>-11.500</td>\n",
       "      <td>-14.400</td>\n",
       "      <td>1.000</td>\n",
       "    </tr>\n",
       "    <tr>\n",
       "      <th>25%</th>\n",
       "      <td>5.960</td>\n",
       "      <td>0.000</td>\n",
       "      <td>0.000</td>\n",
       "      <td>0.00</td>\n",
       "      <td>10.000</td>\n",
       "      <td>0.000</td>\n",
       "      <td>3.500</td>\n",
       "      <td>-0.900</td>\n",
       "      <td>4.000</td>\n",
       "    </tr>\n",
       "    <tr>\n",
       "      <th>50%</th>\n",
       "      <td>9.130</td>\n",
       "      <td>0.000</td>\n",
       "      <td>0.200</td>\n",
       "      <td>0.00</td>\n",
       "      <td>12.500</td>\n",
       "      <td>0.000</td>\n",
       "      <td>7.300</td>\n",
       "      <td>3.400</td>\n",
       "      <td>7.000</td>\n",
       "    </tr>\n",
       "    <tr>\n",
       "      <th>75%</th>\n",
       "      <td>12.790</td>\n",
       "      <td>0.000</td>\n",
       "      <td>2.000</td>\n",
       "      <td>0.00</td>\n",
       "      <td>16.900</td>\n",
       "      <td>0.000</td>\n",
       "      <td>9.600</td>\n",
       "      <td>6.700</td>\n",
       "      <td>10.000</td>\n",
       "    </tr>\n",
       "    <tr>\n",
       "      <th>max</th>\n",
       "      <td>22.950</td>\n",
       "      <td>4.000</td>\n",
       "      <td>67.000</td>\n",
       "      <td>4.00</td>\n",
       "      <td>26.800</td>\n",
       "      <td>4.000</td>\n",
       "      <td>18.000</td>\n",
       "      <td>15.800</td>\n",
       "      <td>12.000</td>\n",
       "    </tr>\n",
       "  </tbody>\n",
       "</table>\n",
       "</div>"
      ],
      "text/plain": [
       "           WIND       IND      RAIN    IND.1     T.MAX     IND.2     T.MIN  \\\n",
       "count  6498.000  6498.000  6498.000  6498.00  6498.000  6498.000  6498.000   \n",
       "mean      9.615     0.394     1.857     0.35    13.068     0.458     6.697   \n",
       "std       4.709     1.182     3.939     1.12     4.751     1.170     4.467   \n",
       "min       0.000     0.000     0.000     0.00    -0.100     0.000   -11.500   \n",
       "25%       5.960     0.000     0.000     0.00    10.000     0.000     3.500   \n",
       "50%       9.130     0.000     0.200     0.00    12.500     0.000     7.300   \n",
       "75%      12.790     0.000     2.000     0.00    16.900     0.000     9.600   \n",
       "max      22.950     4.000    67.000     4.00    26.800     4.000    18.000   \n",
       "\n",
       "        T.MIN.G     month  \n",
       "count  6498.000  6498.000  \n",
       "mean      2.869     6.529  \n",
       "std       5.453     3.434  \n",
       "min     -14.400     1.000  \n",
       "25%      -0.900     4.000  \n",
       "50%       3.400     7.000  \n",
       "75%       6.700    10.000  \n",
       "max      15.800    12.000  "
      ]
     },
     "execution_count": 17,
     "metadata": {},
     "output_type": "execute_result"
    }
   ],
   "source": [
    "round(df.describe() , 3) "
   ]
  },
  {
   "cell_type": "code",
   "execution_count": 18,
   "id": "886dd741-87dd-4cf2-832e-5b5373df407f",
   "metadata": {},
   "outputs": [
    {
     "data": {
      "text/plain": [
       "WIND       0\n",
       "IND        0\n",
       "RAIN       0\n",
       "IND.1      0\n",
       "T.MAX      0\n",
       "IND.2      0\n",
       "T.MIN      0\n",
       "T.MIN.G    0\n",
       "month      0\n",
       "dtype: int64"
      ]
     },
     "execution_count": 18,
     "metadata": {},
     "output_type": "execute_result"
    }
   ],
   "source": [
    "df.isnull().sum()"
   ]
  },
  {
   "cell_type": "code",
   "execution_count": 19,
   "id": "c11ef6e3-96ee-4ae7-81c6-859b9ad1e729",
   "metadata": {},
   "outputs": [],
   "source": [
    "X = df.drop('WIND',axis =1)\n",
    "y = df[\"WIND\"]"
   ]
  },
  {
   "cell_type": "code",
   "execution_count": 20,
   "id": "58a8b105-7db8-4a0d-a93b-497ffda0f144",
   "metadata": {},
   "outputs": [],
   "source": [
    "from sklearn.model_selection import train_test_split\n",
    "X_train, X_test, y_train, y_test = train_test_split(X, y, test_size=0.3,random_state=0 ,shuffle=False)"
   ]
  },
  {
   "cell_type": "code",
   "execution_count": 21,
   "id": "f9370066-f0c2-47cf-b93a-c42fce281817",
   "metadata": {
    "tags": []
   },
   "outputs": [
    {
     "name": "stdout",
     "output_type": "stream",
     "text": [
      "MAE: 3.5228008136005338\n",
      "MSE: 19.32029328600457\n",
      "RMSE: 4.395485557478783\n"
     ]
    }
   ],
   "source": [
    "from sklearn.linear_model import LinearRegression\n",
    "from sklearn import metrics\n",
    "reg =LinearRegression()\n",
    "reg.fit(X_train.values,y_train.values)\n",
    "predict = reg.predict(X_test.values)\n",
    "print('MAE:', metrics.mean_absolute_error(y_test, predict))\n",
    "print('MSE:', metrics.mean_squared_error(y_test, predict))\n",
    "print('RMSE:', np.sqrt(metrics.mean_squared_error(y_test, predict)))"
   ]
  },
  {
   "cell_type": "code",
   "execution_count": 22,
   "id": "38f64976-8a6f-4eaa-8ba3-a47a904ed7e9",
   "metadata": {},
   "outputs": [],
   "source": [
    "# New Input\n",
    "ind =0\n",
    "rain =10.4\n",
    "ind1 =0.0\n",
    "tmax1 =7.2\n",
    "ind2 =1.0\n",
    "tmin =-1.5\n",
    "tming =-7.5\n",
    "month =1"
   ]
  },
  {
   "cell_type": "code",
   "execution_count": 23,
   "id": "2661b1c0-7617-4afb-9879-de0a97e4d772",
   "metadata": {},
   "outputs": [
    {
     "name": "stdout",
     "output_type": "stream",
     "text": [
      "Predicted Wind Speed for the given data is: 10.48046066163388\n"
     ]
    }
   ],
   "source": [
    "x_input =pd.DataFrame(np.array([[ind,rain,ind1,tmax1,ind2,tmin,tming,month]]))  \n",
    "pred=float(reg.predict(x_input))\n",
    "pred\n",
    "print(f\"Predicted Wind Speed for the given data is: {pred}\")"
   ]
  }
 ],
 "metadata": {
  "kernelspec": {
   "display_name": "Python 3",
   "language": "python",
   "name": "python3"
  },
  "language_info": {
   "codemirror_mode": {
    "name": "ipython",
    "version": 3
   },
   "file_extension": ".py",
   "mimetype": "text/x-python",
   "name": "python",
   "nbconvert_exporter": "python",
   "pygments_lexer": "ipython3",
   "version": "3.9.12"
  }
 },
 "nbformat": 4,
 "nbformat_minor": 5
}
